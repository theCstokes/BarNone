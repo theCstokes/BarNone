{
 "cells": [
  {
   "cell_type": "markdown",
   "metadata": {},
   "source": [
    "Perform Imports"
   ]
  },
  {
   "cell_type": "code",
   "execution_count": 27,
   "metadata": {},
   "outputs": [],
   "source": [
    "%matplotlib inline\n",
    "\n",
    "import json\n",
    "import math\n",
    "import matplotlib.pyplot as plt\n",
    "import numpy as np\n",
    "import pandas\n",
    "from scipy.signal import butter, lfilter, freqz\n",
    "from mpl_toolkits.mplot3d import Axes3D\n",
    "from fastdtw import fastdtw, dtw\n",
    "from pprint import pprint\n",
    "from scipy.spatial.distance import euclidean, cityblock\n"
   ]
  },
  {
   "cell_type": "markdown",
   "metadata": {},
   "source": [
    "Array for easily mapping joint IDs to joint names"
   ]
  },
  {
   "cell_type": "code",
   "execution_count": 28,
   "metadata": {},
   "outputs": [],
   "source": [
    "JOINT_MAPPINGS = [\n",
    "    \"Ass\",\n",
    "    \"Middle of the spine\",\n",
    "    \"Neck\",\n",
    "    \"Head\",\n",
    "    \"Left Shoulder\",\n",
    "    \"Left Elbow\",\n",
    "    \"Left Wrist\",\n",
    "    \"Left Hand\",\n",
    "    \"Right Shoulder\",\n",
    "    \"Right Elbow\",\n",
    "    \"Right Wrist\",\n",
    "    \"Right Hand\",\n",
    "    \"Left Hip\",\n",
    "    \"Left Knee\",\n",
    "    \"Left Ankle\",\n",
    "    \"Left Foot\",\n",
    "    \"Right Hip\",\n",
    "    \"Right Knee\",\n",
    "    \"Right Ankle\",\n",
    "    \"Right Foot\",\n",
    "    \"Spine at the Shoulder\"\n",
    "]"
   ]
  },
  {
   "cell_type": "markdown",
   "metadata": {},
   "source": [
    "### Pair of functions from stack overflow to perform lowpass filtering. \n",
    "\n",
    "https://stackoverflow.com/questions/25191620/creating-lowpass-filter-in-scipy-understanding-methods-and-units"
   ]
  },
  {
   "cell_type": "code",
   "execution_count": 29,
   "metadata": {},
   "outputs": [],
   "source": [
    "def butter_lowpass(cutoff, fs, order=5):\n",
    "    nyq = 0.5 * fs\n",
    "    normal_cutoff = cutoff / nyq\n",
    "    b, a = butter(order, normal_cutoff, btype='low', analog=False)\n",
    "    return b, a\n",
    "\n",
    "def butter_lowpass_filter(data, cutoff, fs, order=5):\n",
    "    b, a = butter_lowpass(cutoff, fs, order=order)\n",
    "    y = lfilter(b, a, data)\n",
    "    return y"
   ]
  },
  {
   "cell_type": "code",
   "execution_count": 30,
   "metadata": {},
   "outputs": [],
   "source": [
    "# Filter specifications.\n",
    "ORDER = 2\n",
    "SAMPLE_RATE = 20.0      # sample rate in Hz\n",
    "CUTOFF_F = 2.0  # cutoff frequency in Hz"
   ]
  },
  {
   "cell_type": "markdown",
   "metadata": {},
   "source": [
    "### Function to perform unfiltered discrete derivative. For best results, filter your signal, then differentiate"
   ]
  },
  {
   "cell_type": "code",
   "execution_count": 31,
   "metadata": {},
   "outputs": [],
   "source": [
    "def discrete_derivative(x,sample_rate=SAMPLE_RATE):\n",
    "    derivative = np.array([x[i] - x[i-1] for i in range(1,len(x))])\n",
    "    derivative = derivative*sample_rate\n",
    "    return derivative"
   ]
  },
  {
   "cell_type": "markdown",
   "metadata": {},
   "source": [
    "### Importing the data of the template lift and the series that is being identified."
   ]
  },
  {
   "cell_type": "code",
   "execution_count": 32,
   "metadata": {},
   "outputs": [],
   "source": [
    "TEMPLATE_FILE = open('lifts/Chris_Single_Squat_1.json')\n",
    "MATCHING_FILE = open('lifts/Aamir_Triple_Squat_1.json')\n",
    "\n",
    "template_data = json.load(TEMPLATE_FILE)\n",
    "data = json.load(MATCHING_FILE)"
   ]
  },
  {
   "cell_type": "code",
   "execution_count": 33,
   "metadata": {},
   "outputs": [],
   "source": [
    "template_frames =  template_data[\"Details\"][\"BodyData\"][\"Details\"][\"OrderedFrames\"]\n",
    "frames =  data[\"Details\"][\"BodyData\"][\"Details\"][\"OrderedFrames\"]"
   ]
  },
  {
   "cell_type": "code",
   "execution_count": 34,
   "metadata": {},
   "outputs": [],
   "source": [
    "template_ts = []\n",
    "ts = []\n",
    "for i in range(25):\n",
    "    template_ts = template_ts + [{}]\n",
    "    ts = ts + [{}]\n",
    "    for c in ['X','Y','Z']:\n",
    "        template_ts[i][c] = np.array([joint[\"Details\"][\"Joints\"][i][c] for joint in template_frames])\n",
    "        ts[i][c] = np.array([joint[\"Details\"][\"Joints\"][i][c] for joint in frames])\n"
   ]
  },
  {
   "cell_type": "markdown",
   "metadata": {},
   "source": [
    "### Get data for the height of the lower spine"
   ]
  },
  {
   "cell_type": "code",
   "execution_count": 35,
   "metadata": {},
   "outputs": [],
   "source": [
    "template_ls_height = np.array([joint[\"Details\"][\"Joints\"][0]['Y'] for joint in template_frames])\n",
    "template_ls_height = template_ls_height[10:-3]\n",
    "template_ls_height = template_ls_height - template_ls_height[0]\n",
    "ls_height = np.array([joint[\"Details\"][\"Joints\"][0]['Y'] for joint in frames])\n",
    "ls_height = ls_height - ls_height[0]"
   ]
  },
  {
   "cell_type": "markdown",
   "metadata": {},
   "source": [
    "### Standardize units as a percentage of D2F https://youtu.be/vxsPLXX1QLI?t=2m11s"
   ]
  },
  {
   "cell_type": "code",
   "execution_count": 36,
   "metadata": {},
   "outputs": [],
   "source": [
    "D2F_t = template_frames[0][\"Details\"][\"Joints\"][0]['Y'] - template_frames[0][\"Details\"][\"Joints\"][15]['Y']\n",
    "D2F = frames[0][\"Details\"][\"Joints\"][0]['Y'] - frames[0][\"Details\"][\"Joints\"][15]['Y']\n",
    "template_ls_height = template_ls_height/D2F_t\n",
    "ls_height = ls_height/D2F"
   ]
  },
  {
   "cell_type": "code",
   "execution_count": 37,
   "metadata": {
    "scrolled": true
   },
   "outputs": [
    {
     "data": {
      "text/plain": [
       "0.9067150516"
      ]
     },
     "execution_count": 37,
     "metadata": {},
     "output_type": "execute_result"
    }
   ],
   "source": [
    "D2F_t"
   ]
  },
  {
   "cell_type": "code",
   "execution_count": 38,
   "metadata": {
    "scrolled": true
   },
   "outputs": [
    {
     "data": {
      "text/plain": [
       "0.785809957"
      ]
     },
     "execution_count": 38,
     "metadata": {},
     "output_type": "execute_result"
    }
   ],
   "source": [
    "D2F"
   ]
  },
  {
   "cell_type": "markdown",
   "metadata": {},
   "source": [
    "### Comparison between template and matching data."
   ]
  },
  {
   "cell_type": "code",
   "execution_count": 39,
   "metadata": {
    "scrolled": true
   },
   "outputs": [
    {
     "data": {
      "text/plain": [
       "[<matplotlib.lines.Line2D at 0x1b015699c88>]"
      ]
     },
     "execution_count": 39,
     "metadata": {},
     "output_type": "execute_result"
    },
    {
     "data": {
      "image/png": "[encoded data removed]",
      "text/plain": [
       "<matplotlib.figure.Figure at 0x1b0118f5c18>"
      ]
     },
     "metadata": {},
     "output_type": "display_data"
    }
   ],
   "source": [
    "plt.plot(template_ls_height)\n",
    "plt.plot(ls_height)"
   ]
  },
  {
   "cell_type": "markdown",
   "metadata": {},
   "source": [
    "### Lower Spine velocity (unused)"
   ]
  },
  {
   "cell_type": "code",
   "execution_count": 40,
   "metadata": {
    "scrolled": true
   },
   "outputs": [
    {
     "data": {
      "text/plain": [
       "[<matplotlib.lines.Line2D at 0x1b01192e2e8>]"
      ]
     },
     "execution_count": 40,
     "metadata": {},
     "output_type": "execute_result"
    },
    {
     "data": {
      "image/png": "[encoded data removed]",
      "text/plain": [
       "<matplotlib.figure.Figure at 0x1b01532d320>"
      ]
     },
     "metadata": {},
     "output_type": "display_data"
    }
   ],
   "source": [
    "ls_height_filtered = butter_lowpass_filter(ls_height,CUTOFF_F,SAMPLE_RATE,ORDER)\n",
    "plt.plot(discrete_derivative(ls_height_filtered))"
   ]
  },
  {
   "cell_type": "markdown",
   "metadata": {},
   "source": [
    "### Creating a dissimilarity measure between the squat template and the signal starting at any potential offset. Conceptually, offsets with low dissimlarity look a lot like squat motions. The local minima of this series represent likely starting points for lifts."
   ]
  },
  {
   "cell_type": "code",
   "execution_count": 41,
   "metadata": {
    "scrolled": true
   },
   "outputs": [
    {
     "data": {
      "text/plain": [
       "[<matplotlib.lines.Line2D at 0x1b01199f208>]"
      ]
     },
     "execution_count": 41,
     "metadata": {},
     "output_type": "execute_result"
    },
    {
     "data": {
      "image/png": "[encoded data removed]",
      "text/plain": [
       "<matplotlib.figure.Figure at 0x1b011ee3668>"
      ]
     },
     "metadata": {},
     "output_type": "display_data"
    }
   ],
   "source": [
    "distances = []\n",
    "for offset in range(len(ls_height)-len(template_ls_height)):\n",
    "    distance, _ = fastdtw(template_ls_height, ls_height[offset:len(template_ls_height)+offset], radius = 1, dist=euclidean)\n",
    "    distances = distances + [distance]\n",
    "distances = np.array(distances)\n",
    "plt.plot(distances)"
   ]
  },
  {
   "cell_type": "code",
   "execution_count": 42,
   "metadata": {},
   "outputs": [
    {
     "data": {
      "text/plain": [
       "(array([0], dtype=int64),)"
      ]
     },
     "execution_count": 42,
     "metadata": {},
     "output_type": "execute_result"
    }
   ],
   "source": [
    "#finding local minima\n",
    "from scipy.signal import argrelextrema\n",
    "minInd = argrelextrema(distances, np.less, order=5, mode=\"wrap\")\n",
    "minInd"
   ]
  },
  {
   "cell_type": "markdown",
   "metadata": {},
   "source": [
    "### Plot of the squats identified within the lift session"
   ]
  },
  {
   "cell_type": "code",
   "execution_count": 43,
   "metadata": {
    "scrolled": false
   },
   "outputs": [
    {
     "data": {
      "image/png": "[encoded data removed]",
      "text/plain": [
       "<matplotlib.figure.Figure at 0x1b01197b978>"
      ]
     },
     "metadata": {},
     "output_type": "display_data"
    }
   ],
   "source": [
    "o = minInd[0][0]\n",
    "for o in minInd[0]:\n",
    "    plt.figure()\n",
    "    distance, path = dtw(template_ls_height, ls_height[o:len(template_ls_height)+o], dist=euclidean)\n",
    "    warped_t = np.array([template_ls_height[x[0]] for x in path])\n",
    "    warped = np.array([ls_height[o:len(template_ls_height)+o][x[1]] for x in path])\n",
    "    plt.plot(warped_t)\n",
    "    plt.plot(warped)"
   ]
  },
  {
   "cell_type": "markdown",
   "metadata": {},
   "source": [
    "### Analyzing squat depth, as an example"
   ]
  },
  {
   "cell_type": "markdown",
   "metadata": {},
   "source": [
    "#### Finding the bottom of the squat\n",
    "As a general solution to finding moments within a lift, we can use the warped timing of the template lift to indicate when specific event occur. ie: unwarped the bottom of the squat is frame 20, find what frame 20 maps to when warped, that indicates the bottom of the squat in the sampled lift.\n",
    "\n",
    "This could be solved more easily, however we can generalize this solution to find arbitrary \"moments\" during a lift, not just simple mins, or maxs."
   ]
  },
  {
   "cell_type": "code",
   "execution_count": 44,
   "metadata": {
    "scrolled": true
   },
   "outputs": [
    {
     "data": {
      "text/plain": [
       "[<matplotlib.lines.Line2D at 0x1b0156b2cc0>,\n",
       " <matplotlib.lines.Line2D at 0x1b0156b2e10>]"
      ]
     },
     "execution_count": 44,
     "metadata": {},
     "output_type": "execute_result"
    },
    {
     "data": {
      "image/png": "[encoded data removed]",
      "text/plain": [
       "<matplotlib.figure.Figure at 0x1b0119022b0>"
      ]
     },
     "metadata": {},
     "output_type": "display_data"
    }
   ],
   "source": [
    "plt.plot(path)"
   ]
  },
  {
   "cell_type": "code",
   "execution_count": 45,
   "metadata": {
    "scrolled": true
   },
   "outputs": [
    {
     "data": {
      "text/plain": [
       "21"
      ]
     },
     "execution_count": 45,
     "metadata": {},
     "output_type": "execute_result"
    }
   ],
   "source": [
    "[x[0] for x in path].index(20)"
   ]
  },
  {
   "cell_type": "code",
   "execution_count": 46,
   "metadata": {
    "scrolled": true
   },
   "outputs": [
    {
     "ename": "IndexError",
     "evalue": "index 2 is out of bounds for axis 0 with size 1",
     "output_type": "error",
     "traceback": [
      "\u001b[1;31m---------------------------------------------------------------------------\u001b[0m",
      "\u001b[1;31mIndexError\u001b[0m                                Traceback (most recent call last)",
      "\u001b[1;32m<ipython-input-46-6225d1f36815>\u001b[0m in \u001b[0;36m<module>\u001b[1;34m()\u001b[0m\n\u001b[1;32m----> 1\u001b[1;33m \u001b[0mpath\u001b[0m\u001b[1;33m[\u001b[0m\u001b[1;36m25\u001b[0m\u001b[1;33m]\u001b[0m\u001b[1;33m[\u001b[0m\u001b[1;36m1\u001b[0m\u001b[1;33m]\u001b[0m \u001b[1;33m+\u001b[0m \u001b[0mminInd\u001b[0m\u001b[1;33m[\u001b[0m\u001b[1;36m0\u001b[0m\u001b[1;33m]\u001b[0m\u001b[1;33m[\u001b[0m\u001b[1;36m2\u001b[0m\u001b[1;33m]\u001b[0m\u001b[1;33m\u001b[0m\u001b[0m\n\u001b[0m",
      "\u001b[1;31mIndexError\u001b[0m: index 2 is out of bounds for axis 0 with size 1"
     ]
    }
   ],
   "source": [
    "path[25][1] + minInd[0][2]"
   ]
  },
  {
   "cell_type": "code",
   "execution_count": null,
   "metadata": {},
   "outputs": [],
   "source": [
    "bfj = frames[104][\"Details\"][\"Joints\"] # bottom frame joints"
   ]
  },
  {
   "cell_type": "code",
   "execution_count": null,
   "metadata": {},
   "outputs": [],
   "source": [
    "rhh = bfj[16]['Y'] # right hip height\n",
    "rhd = bfj[16]['Z'] # right hip depth\n",
    "rkh = bfj[17]['Y'] # right knee height\n",
    "rkd = bfj[17]['Z'] # right knee depth"
   ]
  },
  {
   "cell_type": "code",
   "execution_count": null,
   "metadata": {},
   "outputs": [],
   "source": [
    "def hip_knee_angle(hh,hd,kh,kd):\n",
    "    delta_d = hd - kd\n",
    "    delta_h = hh - kh\n",
    "    return math.atan(delta_h/delta_d)*180/math.pi"
   ]
  },
  {
   "cell_type": "code",
   "execution_count": null,
   "metadata": {
    "scrolled": true
   },
   "outputs": [],
   "source": [
    "r_angle_ts =  [hip_knee_angle(ts[16]['Y'][i],ts[16]['Z'][i],ts[17]['Y'][i],ts[17]['Z'][i]) for i in range(len(ts[0]['X']))]\n",
    "l_angle_ts =  [hip_knee_angle(ts[12]['Y'][i],ts[12]['Z'][i],ts[13]['Y'][i],ts[13]['Z'][i]) for i in range(len(ts[0]['X']))]\n",
    "plt.plot(r_angle_ts)\n",
    "plt.plot(l_angle_ts)\n"
   ]
  },
  {
   "cell_type": "code",
   "execution_count": null,
   "metadata": {},
   "outputs": [],
   "source": [
    "frames"
   ]
  },
  {
   "cell_type": "code",
   "execution_count": null,
   "metadata": {},
   "outputs": [],
   "source": [
    "stance_width = ts[19]['X'] - ts[15]['X']\n",
    "shoulder_width = ts[8]['X'] - ts[4]['X']\n",
    "plt.plot(butter_lowpass_filter(stance_width, CUTOFF_F, SAMPLE_RATE, order=5))\n",
    "plt.plot(shoulder_width)"
   ]
  },
  {
   "cell_type": "code",
   "execution_count": null,
   "metadata": {},
   "outputs": [],
   "source": []
  }
 ],
 "metadata": {
  "kernelspec": {
   "display_name": "Python 3",
   "language": "python",
   "name": "python3"
  },
  "language_info": {
   "codemirror_mode": {
    "name": "ipython",
    "version": 3
   },
   "file_extension": ".py",
   "mimetype": "text/x-python",
   "name": "python",
   "nbconvert_exporter": "python",
   "pygments_lexer": "ipython3",
   "version": "3.6.4"
  }
 },
 "nbformat": 4,
 "nbformat_minor": 2
}
