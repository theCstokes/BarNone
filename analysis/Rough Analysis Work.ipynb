{
 "cells": [
  {
   "cell_type": "markdown",
   "metadata": {},
   "source": [
    "Perform Imports"
   ]
  },
  {
   "cell_type": "code",
   "execution_count": 1,
   "metadata": {},
   "outputs": [],
   "source": [
    "%matplotlib inline\n",
    "\n",
    "import json\n",
    "import matplotlib.pyplot as plt\n",
    "import numpy as np\n",
    "import pandas\n",
    "from scipy.signal import butter, lfilter, freqz\n",
    "from mpl_toolkits.mplot3d import Axes3D\n",
    "from fastdtw import fastdtw, dtw\n",
    "from pprint import pprint\n",
    "from scipy.spatial.distance import euclidean, cityblock\n"
   ]
  },
  {
   "cell_type": "markdown",
   "metadata": {},
   "source": [
    "Array for easily mapping joint IDs to joint names"
   ]
  },
  {
   "cell_type": "code",
   "execution_count": 2,
   "metadata": {},
   "outputs": [],
   "source": [
    "JOINT_MAPPINGS = [\n",
    "    \"Ass\",\n",
    "    \"Middle of the spine\",\n",
    "    \"Neck\",\n",
    "    \"Head\",\n",
    "    \"Left Shoulder\",\n",
    "    \"Left Elbow\",\n",
    "    \"Left Wrist\",\n",
    "    \"Left Hand\",\n",
    "    \"Right Shoulder\",\n",
    "    \"Right Elbow\",\n",
    "    \"Right Wrist\",\n",
    "    \"Right Hand\",\n",
    "    \"Left Hip\",\n",
    "    \"Left Knee\",\n",
    "    \"Left Ankle\",\n",
    "    \"Left Foot\",\n",
    "    \"Right Hip\",\n",
    "    \"Right Knee\",\n",
    "    \"Right Ankle\",\n",
    "    \"Right Foot\",\n",
    "    \"Spine at the Shoulder\"\n",
    "]"
   ]
  },
  {
   "cell_type": "markdown",
   "metadata": {},
   "source": [
    "Pair of functions from stack overflow to perform lowpass filtering. \n",
    "\n",
    "https://stackoverflow.com/questions/25191620/creating-lowpass-filter-in-scipy-understanding-methods-and-units"
   ]
  },
  {
   "cell_type": "code",
   "execution_count": 3,
   "metadata": {},
   "outputs": [],
   "source": [
    "def butter_lowpass(cutoff, fs, order=5):\n",
    "    nyq = 0.5 * fs\n",
    "    normal_cutoff = cutoff / nyq\n",
    "    b, a = butter(order, normal_cutoff, btype='low', analog=False)\n",
    "    return b, a\n",
    "\n",
    "def butter_lowpass_filter(data, cutoff, fs, order=5):\n",
    "    b, a = butter_lowpass(cutoff, fs, order=order)\n",
    "    y = lfilter(b, a, data)\n",
    "    return y"
   ]
  },
  {
   "cell_type": "code",
   "execution_count": 4,
   "metadata": {},
   "outputs": [],
   "source": [
    "# Filter specifications.\n",
    "ORDER = 2\n",
    "SAMPLE_RATE = 20.0      # sample rate in Hz\n",
    "CUTOFF_F = 2.0  # cutoff frequency in Hz"
   ]
  },
  {
   "cell_type": "code",
   "execution_count": 5,
   "metadata": {},
   "outputs": [],
   "source": [
    "def discrete_derivative(x,sample_rate=SAMPLE_RATE):\n",
    "    derivative = np.array([x[i] - x[i-1] for i in range(1,len(x))])\n",
    "    derivative = derivative*sample_rate\n",
    "    return derivative"
   ]
  },
  {
   "cell_type": "code",
   "execution_count": 6,
   "metadata": {},
   "outputs": [],
   "source": [
    "TEMPLATE_FILE = open('lifts/Chris_Single_Squat_1.json')\n",
    "MATCHING_FILE = open('lifts/Chris_Single_Squat_2.json')\n",
    "\n",
    "template_data = json.load(TEMPLATE_FILE)\n",
    "data = json.load(MATCHING_FILE)"
   ]
  },
  {
   "cell_type": "code",
   "execution_count": 7,
   "metadata": {},
   "outputs": [],
   "source": [
    "template_frames =  template_data[\"Details\"][\"BodyData\"][\"Details\"][\"OrderedFrames\"]\n",
    "frames =  data[\"Details\"][\"BodyData\"][\"Details\"][\"OrderedFrames\"]"
   ]
  },
  {
   "cell_type": "markdown",
   "metadata": {},
   "source": [
    "Get data for the height of the lower spine"
   ]
  },
  {
   "cell_type": "code",
   "execution_count": 8,
   "metadata": {},
   "outputs": [],
   "source": [
    "template_ls_height = np.array([joint[\"Details\"][\"Joints\"][0]['Y'] for joint in template_frames])[10:-3]\n",
    "ls_height = np.array([joint[\"Details\"][\"Joints\"][0]['Y'] for joint in frames])"
   ]
  },
  {
   "cell_type": "markdown",
   "metadata": {},
   "source": [
    "# Comparison between template and matching data."
   ]
  },
  {
   "cell_type": "code",
   "execution_count": 9,
   "metadata": {},
   "outputs": [
    {
     "data": {
      "text/plain": [
       "[<matplotlib.lines.Line2D at 0x14bac6b0>]"
      ]
     },
     "execution_count": 9,
     "metadata": {},
     "output_type": "execute_result"
    },
    {
     "data": {
      "image/png": "[encoded data removed]",
      "text/plain": [
       "<matplotlib.figure.Figure at 0x139530f0>"
      ]
     },
     "metadata": {},
     "output_type": "display_data"
    }
   ],
   "source": [
    "plt.plot(template_ls_height)\n",
    "plt.plot(ls_height)"
   ]
  },
  {
   "cell_type": "code",
   "execution_count": 10,
   "metadata": {
    "scrolled": false
   },
   "outputs": [
    {
     "data": {
      "text/plain": [
       "[<matplotlib.lines.Line2D at 0x14c250f0>]"
      ]
     },
     "execution_count": 10,
     "metadata": {},
     "output_type": "execute_result"
    },
    {
     "data": {
      "image/png": "[encoded data removed]",
      "text/plain": [
       "<matplotlib.figure.Figure at 0x14becf90>"
      ]
     },
     "metadata": {},
     "output_type": "display_data"
    }
   ],
   "source": [
    "ls_height_filtered = butter_lowpass_filter(ls_height,CUTOFF_F,SAMPLE_RATE,ORDER)\n",
    "plt.plot(discrete_derivative(ls_height_filtered))"
   ]
  },
  {
   "cell_type": "code",
   "execution_count": 11,
   "metadata": {
    "scrolled": true
   },
   "outputs": [
    {
     "data": {
      "text/plain": [
       "[<matplotlib.lines.Line2D at 0x14c79a70>]"
      ]
     },
     "execution_count": 11,
     "metadata": {},
     "output_type": "execute_result"
    },
    {
     "data": {
      "image/png": "[encoded data removed]",
      "text/plain": [
       "<matplotlib.figure.Figure at 0x13b0af50>"
      ]
     },
     "metadata": {},
     "output_type": "display_data"
    }
   ],
   "source": [
    "distances = []\n",
    "for offset in range(len(ls_height)-len(template_ls_height)):\n",
    "    distance, _ = fastdtw(template_ls_height, ls_height[offset:len(template_ls_height)+offset], radius = 1, dist=euclidean)\n",
    "    distances = distances + [distance]\n",
    "distances = np.array(distances)\n",
    "plt.plot(distances)"
   ]
  },
  {
   "cell_type": "code",
   "execution_count": 12,
   "metadata": {},
   "outputs": [
    {
     "data": {
      "text/plain": [
       "(array([12], dtype=int32),)"
      ]
     },
     "execution_count": 12,
     "metadata": {},
     "output_type": "execute_result"
    }
   ],
   "source": [
    "from scipy.signal import argrelextrema\n",
    "minInd = argrelextrema(distances, np.less, order=5, mode=\"wrap\")\n",
    "minInd"
   ]
  },
  {
   "cell_type": "code",
   "execution_count": 13,
   "metadata": {
    "scrolled": true
   },
   "outputs": [
    {
     "data": {
      "text/plain": [
       "[<matplotlib.lines.Line2D at 0x14cd7e30>]"
      ]
     },
     "execution_count": 13,
     "metadata": {},
     "output_type": "execute_result"
    },
    {
     "data": {
      "image/png": "[encoded data removed]",
      "text/plain": [
       "<matplotlib.figure.Figure at 0x14c88150>"
      ]
     },
     "metadata": {},
     "output_type": "display_data"
    }
   ],
   "source": [
    "o = minInd[0][0]\n",
    "distance, path = dtw(template_ls_height, ls_height[o:len(template_ls_height)+o], dist=euclidean)\n",
    "warped_t = np.array([template_ls_height[x[0]] for x in path])\n",
    "warped = np.array([ls_height[o:len(template_ls_height)+o][x[1]] for x in path])\n",
    "plt.plot(warped_t)\n",
    "plt.plot(warped)"
   ]
  }
 ],
 "metadata": {
  "kernelspec": {
   "display_name": "Python 3",
   "language": "python",
   "name": "python3"
  },
  "language_info": {
   "codemirror_mode": {
    "name": "ipython",
    "version": 3
   },
   "file_extension": ".py",
   "mimetype": "text/x-python",
   "name": "python",
   "nbconvert_exporter": "python",
   "pygments_lexer": "ipython3",
   "version": "3.6.4"
  }
 },
 "nbformat": 4,
 "nbformat_minor": 2
}
